{
 "cells": [
  {
   "cell_type": "markdown",
   "metadata": {},
   "source": [
    "# Documentation of data collection / processing\n",
    "\n",
    "The following sections describe the different steps which were necessary to gather the necessary data for the research of bdd glue code\n",
    "The date were the code was executed is:"
   ]
  },
  {
   "cell_type": "code",
   "execution_count": 7,
   "metadata": {},
   "outputs": [
    {
     "name": "stdout",
     "output_type": "stream",
     "text": [
      "2020-11-30 01:29:45.600423\n"
     ]
    }
   ],
   "source": [
    "import datetime\n",
    "print(datetime.datetime.now())"
   ]
  },
  {
   "cell_type": "markdown",
   "metadata": {},
   "source": [
    "# Import used libraries"
   ]
  },
  {
   "cell_type": "code",
   "execution_count": 1,
   "metadata": {},
   "outputs": [],
   "source": [
    "# Library to query\n",
    "from github import Github\n",
    "# Library to better query and display dataframes\n",
    "import pandas as pd\n",
    "# used to get environment variable\n",
    "import os\n",
    "# define the github api query object\n",
    "g = Github(os.environ['GITHUBTOKEN'])\n",
    "# can be used to make direct http requests \n",
    "import requests\n",
    "# used to serialize and save objects in python\n",
    "import pickle"
   ]
  },
  {
   "cell_type": "markdown",
   "metadata": {},
   "source": [
    "# Find repositories that contain Gherkin language\n",
    "\n",
    "Unfortunately the Github API only allows to find repositories (repos) by their main programming language.\n",
    "Therefore a generic query that returns repositories that can be iterated over is used\n",
    "\n",
    "\n",
    "## Get Repository list"
   ]
  },
  {
   "cell_type": "code",
   "execution_count": 2,
   "metadata": {},
   "outputs": [
    {
     "data": {
      "text/plain": [
       "1000"
      ]
     },
     "execution_count": 2,
     "metadata": {},
     "output_type": "execute_result"
    }
   ],
   "source": [
    "repos = g.search_repositories(query='stars:>500', sort='stars', order='desc')\n",
    "repos.totalCount"
   ]
  },
  {
   "cell_type": "markdown",
   "metadata": {},
   "source": [
    "The pygithub library only returns a totalCount of 1000.\n",
    "\n",
    "If we do the same query on the Github Homepage the results are a little different\n",
    "\n",
    "![./repo_count.png](./repo_count.png)\n",
    "\n",
    "after iterating over this a new request should be made.\n",
    "The chosen approach ist ot get the stars count of the last repo and limit the next search to repos with stars between `500-<stars_of_last_repo>`"
   ]
  },
  {
   "cell_type": "code",
   "execution_count": 29,
   "metadata": {},
   "outputs": [],
   "source": [
    "repos = g.search_repositories(query='stars:500..41689', sort='stars', order='desc')"
   ]
  },
  {
   "cell_type": "markdown",
   "metadata": {},
   "source": [
    "## Check if they contain gherkin\n",
    "\n",
    "To check if a repo contains Gherkin files we check the list of languages returned by the github api\n",
    "The following code example does work for a small number of requests. But since Github API has a rate limit, the used script is a little more complicated (check `find_gherkin_repos.py`)"
   ]
  },
  {
   "cell_type": "code",
   "execution_count": 32,
   "metadata": {},
   "outputs": [
    {
     "data": {
      "text/html": [
       "<div>\n",
       "<style scoped>\n",
       "    .dataframe tbody tr th:only-of-type {\n",
       "        vertical-align: middle;\n",
       "    }\n",
       "\n",
       "    .dataframe tbody tr th {\n",
       "        vertical-align: top;\n",
       "    }\n",
       "\n",
       "    .dataframe thead th {\n",
       "        text-align: right;\n",
       "    }\n",
       "</style>\n",
       "<table border=\"1\" class=\"dataframe\">\n",
       "  <thead>\n",
       "    <tr style=\"text-align: right;\">\n",
       "      <th></th>\n",
       "      <th>contains_gherkin</th>\n",
       "    </tr>\n",
       "  </thead>\n",
       "  <tbody>\n",
       "    <tr>\n",
       "      <th>jekyll/jekyll</th>\n",
       "      <td>True</td>\n",
       "    </tr>\n",
       "    <tr>\n",
       "      <th>Hack-with-Github/Awesome-Hacking</th>\n",
       "      <td>False</td>\n",
       "    </tr>\n",
       "    <tr>\n",
       "      <th>necolas/normalize.css</th>\n",
       "      <td>False</td>\n",
       "    </tr>\n",
       "    <tr>\n",
       "      <th>scutan90/DeepLearning-500-questions</th>\n",
       "      <td>False</td>\n",
       "    </tr>\n",
       "    <tr>\n",
       "      <th>google/material-design-icons</th>\n",
       "      <td>False</td>\n",
       "    </tr>\n",
       "  </tbody>\n",
       "</table>\n",
       "</div>"
      ],
      "text/plain": [
       "                                     contains_gherkin\n",
       "jekyll/jekyll                                    True\n",
       "Hack-with-Github/Awesome-Hacking                False\n",
       "necolas/normalize.css                           False\n",
       "scutan90/DeepLearning-500-questions             False\n",
       "google/material-design-icons                    False"
      ]
     },
     "execution_count": 32,
     "metadata": {},
     "output_type": "execute_result"
    }
   ],
   "source": [
    "contains_gherkin_files = {}\n",
    "for repo in repos[:5]:\n",
    "    contains_gherkin_files[repo.full_name] = 'Gherkin' in repo.get_languages()\n",
    "\n",
    "pd.DataFrame.from_dict(contains_gherkin_files, orient='index', columns=['contains_gherkin'])"
   ]
  },
  {
   "cell_type": "code",
   "execution_count": null,
   "metadata": {},
   "outputs": [],
   "source": []
  }
 ],
 "metadata": {
  "kernelspec": {
   "display_name": "Python 3",
   "language": "python",
   "name": "python3"
  },
  "language_info": {
   "codemirror_mode": {
    "name": "ipython",
    "version": 3
   },
   "file_extension": ".py",
   "mimetype": "text/x-python",
   "name": "python",
   "nbconvert_exporter": "python",
   "pygments_lexer": "ipython3",
   "version": "3.8.6"
  }
 },
 "nbformat": 4,
 "nbformat_minor": 4
}
