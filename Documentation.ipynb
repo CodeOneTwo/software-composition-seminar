{
 "cells": [
  {
   "cell_type": "markdown",
   "metadata": {},
   "source": [
    "# Documentation of data collection / processing\n",
    "\n",
    "The following sections describe the different steps which were necessary to gather the necessary data for the research of bdd glue code\n",
    "The date were the code was executed is:"
   ]
  },
  {
   "cell_type": "code",
   "execution_count": 7,
   "metadata": {},
   "outputs": [
    {
     "name": "stdout",
     "output_type": "stream",
     "text": [
      "2020-11-30 01:29:45.600423\n"
     ]
    }
   ],
   "source": [
    "import datetime\n",
    "print(datetime.datetime.now())"
   ]
  },
  {
   "cell_type": "markdown",
   "metadata": {},
   "source": [
    "# Import used libraries"
   ]
  },
  {
   "cell_type": "code",
   "execution_count": 3,
   "metadata": {},
   "outputs": [],
   "source": [
    "# Library to query\n",
    "from github import Github\n",
    "# Library to better query and display dataframes\n",
    "import pandas as pd\n",
    "# used to get environment variable\n",
    "import os\n",
    "# define the github api query object\n",
    "g = Github(os.environ['GITHUBTOKEN'])\n",
    "# can be used to make direct http requests \n",
    "import requests\n",
    "# used to serialize and save objects in python\n",
    "import pickle"
   ]
  },
  {
   "cell_type": "markdown",
   "metadata": {},
   "source": [
    "# Find repositories that contain Gherkin language\n",
    "\n",
    "Unfortunately the Github API only allows to find repositories (repos) by their main programming language.\n",
    "Therefore a generic query that returns repositories that can be iterated over is used\n",
    "\n",
    "\n",
    "## Get Repository list"
   ]
  },
  {
   "cell_type": "code",
   "execution_count": 2,
   "metadata": {},
   "outputs": [
    {
     "data": {
      "text/plain": [
       "1000"
      ]
     },
     "execution_count": 2,
     "metadata": {},
     "output_type": "execute_result"
    }
   ],
   "source": [
    "repos = g.search_repositories(query='stars:>500', sort='stars', order='desc')\n",
    "repos.totalCount"
   ]
  },
  {
   "cell_type": "markdown",
   "metadata": {},
   "source": [
    "The pygithub library only returns a totalCount of 1000.\n",
    "\n",
    "If we do the same query on the Github Homepage the results are a little different\n",
    "\n",
    "![./repo_count.png](./repo_count.png)\n",
    "\n",
    "after iterating over this a new request should be made.\n",
    "The chosen approach ist ot get the stars count of the last repo and limit the next search to repos with stars between `500-<stars_of_last_repo>`"
   ]
  },
  {
   "cell_type": "code",
   "execution_count": 29,
   "metadata": {},
   "outputs": [],
   "source": [
    "repos = g.search_repositories(query='stars:500..41689', sort='stars', order='desc')"
   ]
  },
  {
   "cell_type": "markdown",
   "metadata": {},
   "source": [
    "## Check if they contain gherkin\n",
    "\n",
    "To check if a repo contains Gherkin files we check the list of languages returned by the github api\n",
    "The following code example does work for a small number of requests. But since Github API has a rate limit, the used script is a little more complicated (check `find_gherkin_repos.py`)"
   ]
  },
  {
   "cell_type": "code",
   "execution_count": 32,
   "metadata": {},
   "outputs": [
    {
     "data": {
      "text/html": [
       "<div>\n",
       "<style scoped>\n",
       "    .dataframe tbody tr th:only-of-type {\n",
       "        vertical-align: middle;\n",
       "    }\n",
       "\n",
       "    .dataframe tbody tr th {\n",
       "        vertical-align: top;\n",
       "    }\n",
       "\n",
       "    .dataframe thead th {\n",
       "        text-align: right;\n",
       "    }\n",
       "</style>\n",
       "<table border=\"1\" class=\"dataframe\">\n",
       "  <thead>\n",
       "    <tr style=\"text-align: right;\">\n",
       "      <th></th>\n",
       "      <th>contains_gherkin</th>\n",
       "    </tr>\n",
       "  </thead>\n",
       "  <tbody>\n",
       "    <tr>\n",
       "      <th>jekyll/jekyll</th>\n",
       "      <td>True</td>\n",
       "    </tr>\n",
       "    <tr>\n",
       "      <th>Hack-with-Github/Awesome-Hacking</th>\n",
       "      <td>False</td>\n",
       "    </tr>\n",
       "    <tr>\n",
       "      <th>necolas/normalize.css</th>\n",
       "      <td>False</td>\n",
       "    </tr>\n",
       "    <tr>\n",
       "      <th>scutan90/DeepLearning-500-questions</th>\n",
       "      <td>False</td>\n",
       "    </tr>\n",
       "    <tr>\n",
       "      <th>google/material-design-icons</th>\n",
       "      <td>False</td>\n",
       "    </tr>\n",
       "  </tbody>\n",
       "</table>\n",
       "</div>"
      ],
      "text/plain": [
       "                                     contains_gherkin\n",
       "jekyll/jekyll                                    True\n",
       "Hack-with-Github/Awesome-Hacking                False\n",
       "necolas/normalize.css                           False\n",
       "scutan90/DeepLearning-500-questions             False\n",
       "google/material-design-icons                    False"
      ]
     },
     "execution_count": 32,
     "metadata": {},
     "output_type": "execute_result"
    }
   ],
   "source": [
    "contains_gherkin_files = {}\n",
    "for repo in repos[:5]:\n",
    "    contains_gherkin_files[repo.full_name] = 'Gherkin' in repo.get_languages()\n",
    "\n",
    "pd.DataFrame.from_dict(contains_gherkin_files, orient='index', columns=['contains_gherkin'])"
   ]
  },
  {
   "cell_type": "markdown",
   "metadata": {},
   "source": [
    "# Get List of Feature Files\n",
    "\n",
    "The code used to get the feature files is shown in the following code section.\n",
    "Again this is an example on how to"
   ]
  },
  {
   "cell_type": "code",
   "execution_count": 7,
   "metadata": {},
   "outputs": [
    {
     "data": {
      "text/html": [
       "<div>\n",
       "<style scoped>\n",
       "    .dataframe tbody tr th:only-of-type {\n",
       "        vertical-align: middle;\n",
       "    }\n",
       "\n",
       "    .dataframe tbody tr th {\n",
       "        vertical-align: top;\n",
       "    }\n",
       "\n",
       "    .dataframe thead tr th {\n",
       "        text-align: left;\n",
       "    }\n",
       "</style>\n",
       "<table border=\"1\" class=\"dataframe\">\n",
       "  <thead>\n",
       "    <tr>\n",
       "      <th></th>\n",
       "      <th>feature_files</th>\n",
       "    </tr>\n",
       "  </thead>\n",
       "  <tbody>\n",
       "    <tr>\n",
       "      <th>0</th>\n",
       "      <td>e2e/features/homePage/homePage.feature</td>\n",
       "    </tr>\n",
       "    <tr>\n",
       "      <th>1</th>\n",
       "      <td>e2e/features/influx/influx.feature</td>\n",
       "    </tr>\n",
       "    <tr>\n",
       "      <th>2</th>\n",
       "      <td>e2e/features/loadData/clientlib.feature</td>\n",
       "    </tr>\n",
       "    <tr>\n",
       "      <th>3</th>\n",
       "      <td>e2e/features/loadData/loadData.feature</td>\n",
       "    </tr>\n",
       "    <tr>\n",
       "      <th>4</th>\n",
       "      <td>e2e/features/onboarding/onboarding.feature</td>\n",
       "    </tr>\n",
       "    <tr>\n",
       "      <th>5</th>\n",
       "      <td>e2e/features/settings/labels.feature</td>\n",
       "    </tr>\n",
       "    <tr>\n",
       "      <th>6</th>\n",
       "      <td>e2e/features/settings/settings.feature</td>\n",
       "    </tr>\n",
       "    <tr>\n",
       "      <th>7</th>\n",
       "      <td>e2e/features/settings/variables.feature</td>\n",
       "    </tr>\n",
       "    <tr>\n",
       "      <th>8</th>\n",
       "      <td>e2e/features/signin/signin.feature</td>\n",
       "    </tr>\n",
       "    <tr>\n",
       "      <th>9</th>\n",
       "      <td>e2e/features/monitoring/history.feature</td>\n",
       "    </tr>\n",
       "    <tr>\n",
       "      <th>10</th>\n",
       "      <td>e2e/features/dashboards/dashboard.feature</td>\n",
       "    </tr>\n",
       "    <tr>\n",
       "      <th>11</th>\n",
       "      <td>e2e/features/dashboards/noteCell.feature</td>\n",
       "    </tr>\n",
       "    <tr>\n",
       "      <th>12</th>\n",
       "      <td>e2e/features/loadData/tokens.feature</td>\n",
       "    </tr>\n",
       "    <tr>\n",
       "      <th>13</th>\n",
       "      <td>e2e/cloud/features/signin/01_signinPerf.feature</td>\n",
       "    </tr>\n",
       "    <tr>\n",
       "      <th>14</th>\n",
       "      <td>e2e/cloud/features/signin/02_signinCloud.feature</td>\n",
       "    </tr>\n",
       "    <tr>\n",
       "      <th>15</th>\n",
       "      <td>e2e/features/dashboards/dashboards.feature</td>\n",
       "    </tr>\n",
       "    <tr>\n",
       "      <th>16</th>\n",
       "      <td>e2e/features/settings/templates.feature</td>\n",
       "    </tr>\n",
       "    <tr>\n",
       "      <th>17</th>\n",
       "      <td>e2e/features/dashboards/variables.feature</td>\n",
       "    </tr>\n",
       "    <tr>\n",
       "      <th>18</th>\n",
       "      <td>e2e/features/dataExplorer/dataExplorer.feature</td>\n",
       "    </tr>\n",
       "    <tr>\n",
       "      <th>19</th>\n",
       "      <td>e2e/features/loadData/buckets.feature</td>\n",
       "    </tr>\n",
       "    <tr>\n",
       "      <th>20</th>\n",
       "      <td>e2e/features/monitoring/alerts.feature</td>\n",
       "    </tr>\n",
       "    <tr>\n",
       "      <th>21</th>\n",
       "      <td>e2e/features/loadData/scrapers.feature</td>\n",
       "    </tr>\n",
       "    <tr>\n",
       "      <th>22</th>\n",
       "      <td>e2e/features/loadData/telegrafs.feature</td>\n",
       "    </tr>\n",
       "    <tr>\n",
       "      <th>23</th>\n",
       "      <td>e2e/features/dashboards/cellEdit.feature</td>\n",
       "    </tr>\n",
       "  </tbody>\n",
       "</table>\n",
       "</div>"
      ],
      "text/plain": [
       "                                       feature_files\n",
       "0             e2e/features/homePage/homePage.feature\n",
       "1                 e2e/features/influx/influx.feature\n",
       "2            e2e/features/loadData/clientlib.feature\n",
       "3             e2e/features/loadData/loadData.feature\n",
       "4         e2e/features/onboarding/onboarding.feature\n",
       "5               e2e/features/settings/labels.feature\n",
       "6             e2e/features/settings/settings.feature\n",
       "7            e2e/features/settings/variables.feature\n",
       "8                 e2e/features/signin/signin.feature\n",
       "9            e2e/features/monitoring/history.feature\n",
       "10         e2e/features/dashboards/dashboard.feature\n",
       "11          e2e/features/dashboards/noteCell.feature\n",
       "12              e2e/features/loadData/tokens.feature\n",
       "13   e2e/cloud/features/signin/01_signinPerf.feature\n",
       "14  e2e/cloud/features/signin/02_signinCloud.feature\n",
       "15        e2e/features/dashboards/dashboards.feature\n",
       "16           e2e/features/settings/templates.feature\n",
       "17         e2e/features/dashboards/variables.feature\n",
       "18    e2e/features/dataExplorer/dataExplorer.feature\n",
       "19             e2e/features/loadData/buckets.feature\n",
       "20            e2e/features/monitoring/alerts.feature\n",
       "21            e2e/features/loadData/scrapers.feature\n",
       "22           e2e/features/loadData/telegrafs.feature\n",
       "23          e2e/features/dashboards/cellEdit.feature"
      ]
     },
     "execution_count": 7,
     "metadata": {},
     "output_type": "execute_result"
    }
   ],
   "source": [
    "def get_feature_files(repo):\n",
    "    files = g.search_code(query=f'repo:{repo.full_name} extension:feature')\n",
    "    return [ file.path for file in files ]\n",
    "\n",
    "example_repo = g.get_repo('influxdata/influxdb')\n",
    "feature_files = get_feature_files(example_repo)\n",
    "pd.DataFrame(feature_files, columns=[['feature_files']])"
   ]
  },
  {
   "cell_type": "markdown",
   "metadata": {},
   "source": [
    "<https://github.com/influxdata/influxdb/blob/master/e2e/features/homePage/homePage.feature>"
   ]
  },
  {
   "cell_type": "code",
   "execution_count": null,
   "metadata": {},
   "outputs": [],
   "source": []
  }
 ],
 "metadata": {
  "kernelspec": {
   "display_name": "Python 3",
   "language": "python",
   "name": "python3"
  },
  "language_info": {
   "codemirror_mode": {
    "name": "ipython",
    "version": 3
   },
   "file_extension": ".py",
   "mimetype": "text/x-python",
   "name": "python",
   "nbconvert_exporter": "python",
   "pygments_lexer": "ipython3",
   "version": "3.8.6"
  }
 },
 "nbformat": 4,
 "nbformat_minor": 4
}
