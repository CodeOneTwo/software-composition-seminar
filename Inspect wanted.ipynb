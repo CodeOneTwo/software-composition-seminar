{
 "cells": [
  {
   "cell_type": "code",
   "execution_count": 39,
   "metadata": {},
   "outputs": [],
   "source": [
    "import pickle\n",
    "\n",
    "def save_to_wanted(data):\n",
    "    with open('./wanted.pickle', 'rb') as file:\n",
    "        pickle.dump(data, file)\n",
    "\n",
    "with open('./wanted.pickle', 'rb') as file:\n",
    "    data = pickle.load(file)\n",
    "    \n",
    "with open('./crash-CheatSheetSeries.pickle', 'rb') as file:\n",
    "    crash_data = pickle.load(file)"
   ]
  },
  {
   "cell_type": "code",
   "execution_count": 47,
   "metadata": {},
   "outputs": [
    {
     "data": {
      "text/plain": [
       "{'counter': 1488,\n",
       " 'wanted': [Repository(full_name=\"torvalds/linux\"),\n",
       "  Repository(full_name=\"iluwatar/java-design-patterns\"),\n",
       "  Repository(full_name=\"jekyll/jekyll\"),\n",
       "  Repository(full_name=\"eugenp/tutorials\"),\n",
       "  Repository(full_name=\"hashicorp/consul\"),\n",
       "  Repository(full_name=\"github/hub\"),\n",
       "  Repository(full_name=\"influxdata/influxdb\"),\n",
       "  Repository(full_name=\"elastic/kibana\"),\n",
       "  Repository(full_name=\"elastic/kibana\")]}"
      ]
     },
     "execution_count": 47,
     "metadata": {},
     "output_type": "execute_result"
    }
   ],
   "source": [
    "data"
   ]
  },
  {
   "cell_type": "code",
   "execution_count": 48,
   "metadata": {},
   "outputs": [
    {
     "data": {
      "text/plain": [
       "Repository(full_name=\"elastic/kibana\")"
      ]
     },
     "execution_count": 48,
     "metadata": {},
     "output_type": "execute_result"
    }
   ],
   "source": [
    "repo = data['wanted'][7]\n",
    "repo"
   ]
  },
  {
   "cell_type": "code",
   "execution_count": 49,
   "metadata": {},
   "outputs": [
    {
     "data": {
      "text/plain": [
       "15170"
      ]
     },
     "execution_count": 49,
     "metadata": {},
     "output_type": "execute_result"
    }
   ],
   "source": [
    "repo.stargazers_count"
   ]
  },
  {
   "cell_type": "code",
   "execution_count": 50,
   "metadata": {},
   "outputs": [],
   "source": [
    "crash_data['wanted']=crash_data['wanted'][:7]"
   ]
  },
  {
   "cell_type": "code",
   "execution_count": 51,
   "metadata": {},
   "outputs": [
    {
     "data": {
      "text/plain": [
       "[Repository(full_name=\"torvalds/linux\"),\n",
       " Repository(full_name=\"iluwatar/java-design-patterns\"),\n",
       " Repository(full_name=\"jekyll/jekyll\"),\n",
       " Repository(full_name=\"eugenp/tutorials\"),\n",
       " Repository(full_name=\"hashicorp/consul\"),\n",
       " Repository(full_name=\"github/hub\"),\n",
       " Repository(full_name=\"influxdata/influxdb\")]"
      ]
     },
     "execution_count": 51,
     "metadata": {},
     "output_type": "execute_result"
    }
   ],
   "source": [
    "crash_data['wanted']"
   ]
  },
  {
   "cell_type": "code",
   "execution_count": 53,
   "metadata": {},
   "outputs": [
    {
     "data": {
      "text/plain": [
       "'torvalds/linux'"
      ]
     },
     "execution_count": 53,
     "metadata": {},
     "output_type": "execute_result"
    }
   ],
   "source": [
    "crash_data['wanted'][0].full_name"
   ]
  },
  {
   "cell_type": "code",
   "execution_count": null,
   "metadata": {},
   "outputs": [],
   "source": []
  }
 ],
 "metadata": {
  "kernelspec": {
   "display_name": "Python 3",
   "language": "python",
   "name": "python3"
  },
  "language_info": {
   "codemirror_mode": {
    "name": "ipython",
    "version": 3
   },
   "file_extension": ".py",
   "mimetype": "text/x-python",
   "name": "python",
   "nbconvert_exporter": "python",
   "pygments_lexer": "ipython3",
   "version": "3.8.6"
  }
 },
 "nbformat": 4,
 "nbformat_minor": 4
}
