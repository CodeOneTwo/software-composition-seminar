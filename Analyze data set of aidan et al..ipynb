{
 "cells": [
  {
   "cell_type": "code",
   "execution_count": 1,
   "metadata": {},
   "outputs": [],
   "source": [
    "aiden_repo_list = [\"tyen/cs320tests\",\n",
    "\"caspian311/Scripturelookup \",\n",
    "\"epabst/expressive\",\n",
    "\"epabst/expressiveBDD\",\n",
    "\"mkristian/slf4r\",\n",
    "\"Vaysman/jvote\",\n",
    "\"Serabe/javascreepy\",\n",
    "\"rapidftr/RapidFTR-Android\",\n",
    "\"davidbkemp/nate\",\n",
    "\"jtigger/kanban-simulator\",\n",
    "\"yujunliang/lambda\",\n",
    "\"jacek99/maven-python-mojos\",\n",
    "\"rapaul/cuke4ninja\",\n",
    "\"trevershick/jook\",\n",
    "\"sveinung/pritest-server\",\n",
    "\"openengsb-labs/labs-yaste\",\n",
    "\"runeflobakk/poker\",\n",
    "\"bugsnag/bugsnag-android\",\n",
    "\"AndreasWilhelm/neo4j-spatial\",\n",
    "\"resthub/springmvc-router\",\n",
    "\"rlogiacco/SmartUnit\",\n",
    "\"vitormcruz/payroll\",\n",
    "\"mkristian/rails-resty-gwt\",\n",
    "\"akollegger/trivial-graph\",\n",
    "\"jfinkhaeuser/androdyne\",\n",
    "\"Drin/spam\",\n",
    "\"dokipen/embedly-java\",\n",
    "\"jescov/jescov\",\n",
    "\"jkransen/treemarks\",\n",
    "\"Jennifer-fu/practices\",\n",
    "\"lukasz-kaniowski/cucumber-selenium-rc\",\n",
    "\"ZsoltFabok/cucumber-jvm-post\",\n",
    "\"Chorus-bdd/Chorus\",\n",
    "\"bartbaas/spatial\",\n",
    "\"daniel-andersen/Q-Cumberless-Testing\",\n",
    "\"leviwilson/oasis-android\",\n",
    "\"tlauchenauer/gaia-pdb\",\n",
    "\"bclozel/springmvc-router\",\n",
    "\"rabid-fish/JavaTechExamples\",\n",
    "\"iantmoore/old-substeps-webdriver\",\n",
    "\"ericlemerdy/one-kata-per-day\",\n",
    "\"mikael-wilhelm/LoadPlannerAmaz\",\n",
    "\"marky-mark/MTT\",\n",
    "\"leefaus/soa-petstore\",\n",
    "\"suggitpe/java-web\",\n",
    "\"japonophile/jescov\",\n",
    "\"sandromancuso/tww-java\",\n",
    "\"ilanpillemer/gherkin-eclipse-plugin\",\n",
    "\"talios/cucumber-testng-factory\",\n",
    "\"hayatoshimizuBSKYB/apollo\"\n",
    "]"
   ]
  },
  {
   "cell_type": "code",
   "execution_count": 2,
   "metadata": {},
   "outputs": [],
   "source": [
    "from github import Github\n",
    "import pandas as pd\n",
    "import os\n",
    "g = Github(os.environ['GITHUBTOKEN'])\n",
    "import requests\n",
    "import pickle"
   ]
  },
  {
   "cell_type": "code",
   "execution_count": 3,
   "metadata": {},
   "outputs": [
    {
     "ename": "BadCredentialsException",
     "evalue": "401 {\"message\": \"Bad credentials\", \"documentation_url\": \"https://docs.github.com/rest\"}",
     "output_type": "error",
     "traceback": [
      "\u001b[0;31m---------------------------------------------------------------------------\u001b[0m",
      "\u001b[0;31mBadCredentialsException\u001b[0m                   Traceback (most recent call last)",
      "\u001b[0;32m<ipython-input-3-abc85e13b537>\u001b[0m in \u001b[0;36m<module>\u001b[0;34m\u001b[0m\n\u001b[1;32m      4\u001b[0m \u001b[0;34m\u001b[0m\u001b[0m\n\u001b[1;32m      5\u001b[0m \u001b[0;32mfor\u001b[0m \u001b[0mrepo_name\u001b[0m \u001b[0;32min\u001b[0m \u001b[0maiden_repo_list\u001b[0m\u001b[0;34m:\u001b[0m\u001b[0;34m\u001b[0m\u001b[0;34m\u001b[0m\u001b[0m\n\u001b[0;32m----> 6\u001b[0;31m     \u001b[0mrepo\u001b[0m \u001b[0;34m=\u001b[0m \u001b[0mg\u001b[0m\u001b[0;34m.\u001b[0m\u001b[0mget_repo\u001b[0m\u001b[0;34m(\u001b[0m\u001b[0mrepo_name\u001b[0m\u001b[0;34m)\u001b[0m\u001b[0;34m\u001b[0m\u001b[0;34m\u001b[0m\u001b[0m\n\u001b[0m\u001b[1;32m      7\u001b[0m     repo_data = {\n\u001b[1;32m      8\u001b[0m         \u001b[0;34m\"name\"\u001b[0m\u001b[0;34m:\u001b[0m \u001b[0mrepo\u001b[0m\u001b[0;34m.\u001b[0m\u001b[0mname\u001b[0m\u001b[0;34m,\u001b[0m\u001b[0;34m\u001b[0m\u001b[0;34m\u001b[0m\u001b[0m\n",
      "\u001b[0;32m/usr/lib/python3.9/site-packages/github/MainClass.py\u001b[0m in \u001b[0;36mget_repo\u001b[0;34m(self, full_name_or_id, lazy)\u001b[0m\n\u001b[1;32m    343\u001b[0m                 \u001b[0mself\u001b[0m\u001b[0;34m.\u001b[0m\u001b[0m__requester\u001b[0m\u001b[0;34m,\u001b[0m \u001b[0;34m{\u001b[0m\u001b[0;34m}\u001b[0m\u001b[0;34m,\u001b[0m \u001b[0;34m{\u001b[0m\u001b[0;34m\"url\"\u001b[0m\u001b[0;34m:\u001b[0m \u001b[0murl\u001b[0m\u001b[0;34m}\u001b[0m\u001b[0;34m,\u001b[0m \u001b[0mcompleted\u001b[0m\u001b[0;34m=\u001b[0m\u001b[0;32mFalse\u001b[0m\u001b[0;34m\u001b[0m\u001b[0;34m\u001b[0m\u001b[0m\n\u001b[1;32m    344\u001b[0m             )\n\u001b[0;32m--> 345\u001b[0;31m         headers, data = self.__requester.requestJsonAndCheck(\n\u001b[0m\u001b[1;32m    346\u001b[0m             \u001b[0;34m\"GET\"\u001b[0m\u001b[0;34m,\u001b[0m \u001b[0;34mf\"{url_base}{full_name_or_id}\"\u001b[0m\u001b[0;34m\u001b[0m\u001b[0;34m\u001b[0m\u001b[0m\n\u001b[1;32m    347\u001b[0m         )\n",
      "\u001b[0;32m/usr/lib/python3.9/site-packages/github/Requester.py\u001b[0m in \u001b[0;36mrequestJsonAndCheck\u001b[0;34m(self, verb, url, parameters, headers, input)\u001b[0m\n\u001b[1;32m    313\u001b[0m \u001b[0;34m\u001b[0m\u001b[0m\n\u001b[1;32m    314\u001b[0m     \u001b[0;32mdef\u001b[0m \u001b[0mrequestJsonAndCheck\u001b[0m\u001b[0;34m(\u001b[0m\u001b[0mself\u001b[0m\u001b[0;34m,\u001b[0m \u001b[0mverb\u001b[0m\u001b[0;34m,\u001b[0m \u001b[0murl\u001b[0m\u001b[0;34m,\u001b[0m \u001b[0mparameters\u001b[0m\u001b[0;34m=\u001b[0m\u001b[0;32mNone\u001b[0m\u001b[0;34m,\u001b[0m \u001b[0mheaders\u001b[0m\u001b[0;34m=\u001b[0m\u001b[0;32mNone\u001b[0m\u001b[0;34m,\u001b[0m \u001b[0minput\u001b[0m\u001b[0;34m=\u001b[0m\u001b[0;32mNone\u001b[0m\u001b[0;34m)\u001b[0m\u001b[0;34m:\u001b[0m\u001b[0;34m\u001b[0m\u001b[0;34m\u001b[0m\u001b[0m\n\u001b[0;32m--> 315\u001b[0;31m         return self.__check(\n\u001b[0m\u001b[1;32m    316\u001b[0m             *self.requestJson(\n\u001b[1;32m    317\u001b[0m                 \u001b[0mverb\u001b[0m\u001b[0;34m,\u001b[0m \u001b[0murl\u001b[0m\u001b[0;34m,\u001b[0m \u001b[0mparameters\u001b[0m\u001b[0;34m,\u001b[0m \u001b[0mheaders\u001b[0m\u001b[0;34m,\u001b[0m \u001b[0minput\u001b[0m\u001b[0;34m,\u001b[0m \u001b[0mself\u001b[0m\u001b[0;34m.\u001b[0m\u001b[0m__customConnection\u001b[0m\u001b[0;34m(\u001b[0m\u001b[0murl\u001b[0m\u001b[0;34m)\u001b[0m\u001b[0;34m\u001b[0m\u001b[0;34m\u001b[0m\u001b[0m\n",
      "\u001b[0;32m/usr/lib/python3.9/site-packages/github/Requester.py\u001b[0m in \u001b[0;36m__check\u001b[0;34m(self, status, responseHeaders, output)\u001b[0m\n\u001b[1;32m    338\u001b[0m         \u001b[0moutput\u001b[0m \u001b[0;34m=\u001b[0m \u001b[0mself\u001b[0m\u001b[0;34m.\u001b[0m\u001b[0m__structuredFromJson\u001b[0m\u001b[0;34m(\u001b[0m\u001b[0moutput\u001b[0m\u001b[0;34m)\u001b[0m\u001b[0;34m\u001b[0m\u001b[0;34m\u001b[0m\u001b[0m\n\u001b[1;32m    339\u001b[0m         \u001b[0;32mif\u001b[0m \u001b[0mstatus\u001b[0m \u001b[0;34m>=\u001b[0m \u001b[0;36m400\u001b[0m\u001b[0;34m:\u001b[0m\u001b[0;34m\u001b[0m\u001b[0;34m\u001b[0m\u001b[0m\n\u001b[0;32m--> 340\u001b[0;31m             \u001b[0;32mraise\u001b[0m \u001b[0mself\u001b[0m\u001b[0;34m.\u001b[0m\u001b[0m__createException\u001b[0m\u001b[0;34m(\u001b[0m\u001b[0mstatus\u001b[0m\u001b[0;34m,\u001b[0m \u001b[0mresponseHeaders\u001b[0m\u001b[0;34m,\u001b[0m \u001b[0moutput\u001b[0m\u001b[0;34m)\u001b[0m\u001b[0;34m\u001b[0m\u001b[0;34m\u001b[0m\u001b[0m\n\u001b[0m\u001b[1;32m    341\u001b[0m         \u001b[0;32mreturn\u001b[0m \u001b[0mresponseHeaders\u001b[0m\u001b[0;34m,\u001b[0m \u001b[0moutput\u001b[0m\u001b[0;34m\u001b[0m\u001b[0;34m\u001b[0m\u001b[0m\n\u001b[1;32m    342\u001b[0m \u001b[0;34m\u001b[0m\u001b[0m\n",
      "\u001b[0;31mBadCredentialsException\u001b[0m: 401 {\"message\": \"Bad credentials\", \"documentation_url\": \"https://docs.github.com/rest\"}"
     ]
    }
   ],
   "source": [
    "state = {\n",
    "    'repos': []\n",
    "}\n",
    "\n",
    "for repo_name in aiden_repo_list:\n",
    "    repo = g.get_repo(repo_name)\n",
    "    repo_data = {\n",
    "        \"name\": repo.name,\n",
    "        \"full_name\": repo.full_name,\n",
    "        \"url\": repo.html_url,\n",
    "        \"fork\": repo.fork,\n",
    "        \"num_forks\": repo.forks_count,\n",
    "        \"num_contributors\": retry(lambda repo: repo.get_contributors().totalCount)(repo),\n",
    "        \"num_commits\": retry(lambda repo: repo.get_commits().totalCount)(repo),\n",
    "        \"num_stars\": repo.stargazers_count\n",
    "    }\n",
    "    repos.append(repo_data)\n"
   ]
  },
  {
   "cell_type": "code",
   "execution_count": null,
   "metadata": {},
   "outputs": [],
   "source": []
  }
 ],
 "metadata": {
  "kernelspec": {
   "display_name": "Python 3",
   "language": "python",
   "name": "python3"
  },
  "language_info": {
   "codemirror_mode": {
    "name": "ipython",
    "version": 3
   },
   "file_extension": ".py",
   "mimetype": "text/x-python",
   "name": "python",
   "nbconvert_exporter": "python",
   "pygments_lexer": "ipython3",
   "version": "3.9.1"
  }
 },
 "nbformat": 4,
 "nbformat_minor": 4
}
